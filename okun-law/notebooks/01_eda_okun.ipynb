{
  "cells": [
    {
      "cell_type": "markdown",
      "metadata": {},
      "source": "# 01 \u2014 EDA for Okun's Law"
    },
    {
      "cell_type": "markdown",
      "metadata": {},
      "source": "This notebook loads the raw CSV, normalizes columns, and creates \u0394unemployment and GDP growth."
    },
    {
      "cell_type": "code",
      "metadata": {},
      "source": "from src.data_utils import load_raw_any, engineer_features\nraw_dir = '../data/raw'\ndf = load_raw_any(raw_dir)\ndf_feat = engineer_features(df)\ndf_feat.to_csv('../data/processed/okun_features.csv', index=False)\ndf_feat.head()",
      "outputs": [],
      "execution_count": null
    },
    {
      "cell_type": "code",
      "metadata": {},
      "source": "import matplotlib.pyplot as plt\nax = df_feat.groupby('year')['unemployment_rate'].mean().plot(figsize=(8,4))\nax.set(title='Global Unemployment (mean)', ylabel='%'); plt.show()",
      "outputs": [],
      "execution_count": null
    }
  ],
  "metadata": {
    "kernelspec": {
      "display_name": "Python 3",
      "language": "python",
      "name": "python3"
    },
    "language_info": {
      "name": "python",
      "version": "3.x"
    }
  },
  "nbformat": 4,
  "nbformat_minor": 5
}