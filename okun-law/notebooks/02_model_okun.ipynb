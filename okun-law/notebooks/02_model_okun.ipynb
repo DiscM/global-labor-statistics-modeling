{
  "cells": [
    {
      "cell_type": "markdown",
      "metadata": {},
      "source": "# 02 \u2014 FE Okun model"
    },
    {
      "cell_type": "code",
      "metadata": {},
      "source": "from src.data_utils import load_raw_any, engineer_features\nfrom src.okun_model import fe_okun\n\nraw_dir = '../data/raw'\ndf = load_raw_any(raw_dir)\ndf_feat = engineer_features(df)\nres = fe_okun(df_feat)\nprint(res.summary())",
      "outputs": [],
      "execution_count": null
    }
  ],
  "metadata": {
    "kernelspec": {
      "display_name": "Python 3",
      "language": "python",
      "name": "python3"
    },
    "language_info": {
      "name": "python",
      "version": "3.x"
    }
  },
  "nbformat": 4,
  "nbformat_minor": 5
}