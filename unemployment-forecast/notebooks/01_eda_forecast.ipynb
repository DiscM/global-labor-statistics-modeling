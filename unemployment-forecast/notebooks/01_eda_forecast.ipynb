{
  "cells": [
    {
      "cell_type": "markdown",
      "metadata": {},
      "source": "# 01 \u2014 EDA for Unemployment Forecasting"
    },
    {
      "cell_type": "code",
      "metadata": {},
      "source": "from src.data_utils import load_raw_any, make_supervised\nraw_dir = '../data/raw'\ndf = load_raw_any(raw_dir)\ndf_sup = make_supervised(df, lags=3)\ndf_sup.to_csv('../data/processed/supervised_lags3.csv', index=False)\ndf_sup.head()",
      "outputs": [],
      "execution_count": null
    }
  ],
  "metadata": {
    "kernelspec": {
      "display_name": "Python 3",
      "language": "python",
      "name": "python3"
    },
    "language_info": {
      "name": "python",
      "version": "3.x"
    }
  },
  "nbformat": 4,
  "nbformat_minor": 5
}