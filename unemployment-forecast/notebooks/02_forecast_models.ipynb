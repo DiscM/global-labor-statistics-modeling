{
  "cells": [
    {
      "cell_type": "markdown",
      "metadata": {},
      "source": "# 02 \u2014 Forecast models with conformal intervals"
    },
    {
      "cell_type": "markdown",
      "metadata": {},
      "source": "Demonstrates rolling-origin forecasts for one country and split conformal intervals."
    },
    {
      "cell_type": "code",
      "metadata": {},
      "source": "import numpy as np\nimport pandas as pd\nfrom src.data_utils import load_raw_any, make_supervised\nfrom src.forecast import rolling_origin_forecast, mae\nfrom src.conformal import split_conformal_intervals, apply_conformal, empirical_coverage\n\nraw_dir = '../data/raw'\ndf = load_raw_any(raw_dir)\ndf_sup = make_supervised(df, lags=3)\n\ncountries = sorted(df_sup['country'].dropna().unique().tolist())\nprint('Countries:', len(countries))\ncountry = countries[0]\nprint('Example country:', country)\n\ntrues, preds = rolling_origin_forecast(df_sup, country, min_train=10)\nprint('MAE:', mae(trues, preds))\n\nn = len(trues)\nk = max(1, n//2)\ncalib_resid = np.abs(trues[:k] - preds[:k])\nq = split_conformal_intervals(calib_resid, alpha=0.1)\nlower, upper = apply_conformal(preds, q)\ncov = empirical_coverage(trues, lower, upper)\nprint('Conformal q (alpha=0.1):', q, '| Empirical coverage:', cov)",
      "outputs": [],
      "execution_count": null
    }
  ],
  "metadata": {
    "kernelspec": {
      "display_name": "Python 3",
      "language": "python",
      "name": "python3"
    },
    "language_info": {
      "name": "python",
      "version": "3.x"
    }
  },
  "nbformat": 4,
  "nbformat_minor": 5
}